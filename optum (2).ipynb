{
 "cells": [
  {
   "cell_type": "code",
   "execution_count": 1,
   "id": "6ad2bc51-8e48-44a3-949f-c04812da9828",
   "metadata": {},
   "outputs": [],
   "source": [
    "import time\n",
    "import zipfile\n",
    "import json\n",
    "import pandas as pd\n",
    "import os\n",
    "import requests\n",
    "from datetime import date\n",
    "from bs4 import BeautifulSoup\n",
    "from selenium import webdriver\n",
    "from selenium.webdriver.common.keys import Keys\n",
    "from selenium.webdriver.common.by import By\n",
    "from selenium.webdriver.chrome.service import Service\n",
    "\n",
    "path =\"htp/chrome.exe\"\n",
    "service=Service(executable='./chromedriver.exe')\n",
    "driver = webdriver.Chrome(service=service)\n",
    "keyword=\"allowed-amounts\""
   ]
  },
  {
   "cell_type": "code",
   "execution_count": 2,
   "id": "8313605c-dd92-4071-8e3b-1fc82c479f5a",
   "metadata": {},
   "outputs": [],
   "source": [
    "def parsess(json_data):\n",
    "    allowed_amounts_data=[]\n",
    "    for summary in json_data:\n",
    "        for item in summary[\"out_of_network\"]:\n",
    "            for amount in item[\"allowed_amounts\"]:\n",
    "                for payments in amount[\"payments\"]:\n",
    "                    for provider in payments[\"providers\"]:\n",
    "                        for npi in provider[\"npi\"]:\n",
    "                            allowed_amounts_data.append({\n",
    "                                \"Reporting_entity_name\" : summary[\"reporting_entity_name\"],\n",
    "                                \"Reporting_entity_type\" : summary[\"reporting_entity_type\"],\n",
    "                                \"Plan_name\" : summary[\"plan_name\"],\n",
    "                                \"Plan_id_type\":summary[\"plan_id_type\"],\n",
    "                                \"Plan_id\":summary[\"plan_id\"],\n",
    "                                \"Plan_market_type\":summary[\"plan_market_type\"],\n",
    "                                \"Last_update_on\":summary[\"last_update_on\"],\n",
    "                                \"Version\":summary[\"version\"],\n",
    "                                \"Name\":item[\"name\"],\n",
    "                                \"Billing Code\":item[\"billing_code\"],\n",
    "                                \"Description\":item[\"description\"],\n",
    "                                \"TIN Type\":amount[\"tin\"][\"type\"],\n",
    "                                \"TIN Value\":amount[\"tin\"][\"value\"],\n",
    "                                \"Service Code\":\",\".join(amount[\"service_code\"]),\n",
    "                                \"Billing Class\":amount[\"billing_class\"],\n",
    "                                \"Allowed Amounts\":payment[\"allowed_amount\"],\n",
    "                                \"Billed Charge\":amount[\"billing_charge\"],\n",
    "                                \"NPI\":npi,\n",
    "                                \"Flag\":1,\n",
    "                                \"Initial_update\":date.today(),\n",
    "                                \"Final_update\":date.today()\n",
    "                            })\n",
    "    return allowed_amounts_data"
   ]
  },
  {
   "cell_type": "code",
   "execution_count": 3,
   "id": "54053f19-f4ba-4dba-b644-b723e06dac79",
   "metadata": {},
   "outputs": [],
   "source": [
    "def to_excel(summary_main):\n",
    "    df1=pd.read_excel(\"C:/Users/gopik/OneDrive/Desktop/keerthicam/HPT-main/Meta_Data.xlsx\",sheet_name=\"Data_File\")\n",
    "    df2=pd.DataFrame(summary_main)\n",
    "    new_data_frame=pd.DataFrame(columns=df1.columns)\n",
    "    for index,row in df2.iterrows():\n",
    "        if(df1==row).all(axis=1).any():\n",
    "            df1.loc[(df1==row).all(axis=1),'Latest_Update'] = date.today()\n",
    "        else:\n",
    "            new_dataframe.loc[len(new_data_frame.index)]=row\n",
    "    df1=pd.concat([df1,new_data_frame],ignore_index=True)\n",
    "    return df1"
   ]
  },
  {
   "cell_type": "code",
   "execution_count": 4,
   "id": "4d1c8511-fd10-4e33-9a0d-16fa27cc8682",
   "metadata": {},
   "outputs": [],
   "source": [
    "def create_metadata():\n",
    "    if not os.path.isfile(\"C:/Users/gopik/OneDrive/Desktop/keerthicam/HPT-main/Meta_Data.xlsx\"):\n",
    "        df=pd.DataFrame(columns=[\"Reporting_entity_name\",\"Reporting_entity_type\",\n",
    "                               \"Plan_name\",\"Plan_id_type\",\"Plan_id\",\"Plan_market_type\",\n",
    "                               \"Last_update_on\",\"Version\",\"Name\",\"Billing Code\",\"Description\",\n",
    "                               \"TIN Type\",\"TIN Value\",\"Service Code\",\"Billing Class\",\"Allowed Amounts\",\n",
    "                               \"Billed Charge\",\"NPI\",\"Flag\",\"Initial_update\",\"Final_update\"])\n",
    "        with pd.ExcelWriter('C:/Users/gopik/OneDrive/Desktop/keerthicam/HPT-main/Meta_Data.xlsx',engine='openpyxl') as writer:\n",
    "            df.to_excel(writer,sheet_name='Data_File',index=False)"
   ]
  },
  {
   "cell_type": "code",
   "execution_count": 5,
   "id": "ff38a2f6-4299-42e3-8dc8-fa1a60037142",
   "metadata": {},
   "outputs": [],
   "source": [
    "def extractor(lists):\n",
    "    file_count=0\n",
    "    print(\"Total_file\",len(lists))\n",
    "    result_main=[]\n",
    "    c=0\n",
    "    for lst in lists:\n",
    "        link_element = lst.find('a')\n",
    "        if link_element:\n",
    "            link_url = link_element.get('href')\n",
    "            response = requests.get(link_url)\n",
    "            filename = link_url.split('/')[-1]\n",
    "            full_path = os.path.join(\"C:/Users/gopik/OneDrive/Desktop/keerthicam/HPT-main/zips\", filename)\n",
    "            with open(full_path, 'wb') as file:\n",
    "                file.write(response.content)\n",
    "            with zipfile.ZipFile(full_path, 'r') as zip_ref:\n",
    "                zip_ref.extractall(\"C:/Users/gopik/OneDrive/Desktop/keerthicam/HPT-main/extractss\")\n",
    "            result=json_parser(filename)\n",
    "            if result:\n",
    "                for i in result:\n",
    "                    result_main.append(i)\n",
    "            file_count+=1\n",
    "            print('Completed-->{0}/{1}'.format(file_count,len(lists)))\n",
    "            c+=1\n",
    "            if c==5:\n",
    "                break\n",
    "        else:\n",
    "            print(\"No <a> tag found in list item.\")\n",
    "    return result_main"
   ]
  },
  {
   "cell_type": "code",
   "execution_count": 6,
   "id": "b33bc957-4255-4a90-a68b-8be5de5f1876",
   "metadata": {},
   "outputs": [],
   "source": [
    "def json_parser(filename):\n",
    "    jsons = 'C:/Users/gopik/OneDrive/Desktop/keerthicam/HPT-main/extractss/'+filename.split('.')[0] +'.json'\n",
    "    file=open(jsons)\n",
    "    data=json.load(file)\n",
    "    summary={}\n",
    "    allowed_amount=parses([data])\n",
    "    return allowed_amount"
   ]
  },
  {
   "cell_type": "code",
   "execution_count": 7,
   "id": "3c405527-91ca-4b15-9a87-2c35674bf0d6",
   "metadata": {},
   "outputs": [],
   "source": [
    "def scrapper(url):\n",
    "    print(\"Scrpping Started\")\n",
    "    driver.get(url)\n",
    "    time.sleep(10)\n",
    "\n",
    "    search=driver.find_element(By.CLASS_NAME,\"ant-input\")\n",
    "    search.send_keys(keyword)\n",
    "    search.send_keys(Keys.RETURN)\n",
    "    time.sleep(3)\n",
    "\n",
    "    page_source=driver.page_source\n",
    "    soup=BeautifulSoup(page_source,'html.parser')\n",
    "    lists=soup.find_all('li',class_='ant-list-item')\n",
    "    return lists"
   ]
  },
  {
   "cell_type": "code",
   "execution_count": 8,
   "id": "6e9b4456-e61c-49a2-9dbe-200a1a71fb1a",
   "metadata": {},
   "outputs": [
    {
     "name": "stdout",
     "output_type": "stream",
     "text": [
      "Scrpping Started\n",
      "Total_file 574\n",
      "Completed-->1/574\n",
      "Completed-->2/574\n",
      "Completed-->3/574\n",
      "Completed-->4/574\n",
      "Completed-->5/574\n",
      "Execution_time: ---40.93163728713989 seconds ---\n"
     ]
    }
   ],
   "source": [
    "if __name__ == \"__main__\":\n",
    "    start_time = time.time()\n",
    "    url = \"https://transparency-in-coverage.optum.com/\"\n",
    "    response=requests.get(url)\n",
    "    result=[]\n",
    "    \n",
    "    if response.status_code==200:\n",
    "        create_metadata()\n",
    "        lists=scrapper(url)\n",
    "        results=extractor(lists)\n",
    "        dff=to_excel(results)\n",
    "        driver.quit()\n",
    "    else:\n",
    "        print(\"Error accessing page or no URLs processed.\")\n",
    "    print(\"Execution_time: ---%s seconds ---\" % ((time.time()-start_time)))"
   ]
  }
 ],
 "metadata": {
  "kernelspec": {
   "display_name": "Python 3 (ipykernel)",
   "language": "python",
   "name": "python3"
  },
  "language_info": {
   "codemirror_mode": {
    "name": "ipython",
    "version": 3
   },
   "file_extension": ".py",
   "mimetype": "text/x-python",
   "name": "python",
   "nbconvert_exporter": "python",
   "pygments_lexer": "ipython3",
   "version": "3.11.7"
  }
 },
 "nbformat": 4,
 "nbformat_minor": 5
}
